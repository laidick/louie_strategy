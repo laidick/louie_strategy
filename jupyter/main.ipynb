{
 "cells": [
  {
   "cell_type": "code",
   "execution_count": 1,
   "metadata": {},
   "outputs": [
    {
     "name": "stderr",
     "output_type": "stream",
     "text": [
      "2020-09-14 23:01:24,356 start program...\n",
      "2020-09-14 23:01:24,358 reading csv...\n"
     ]
    },
    {
     "data": {
      "application/vnd.jupyter.widget-view+json": {
       "model_id": "5ee5c598f12c4491a7c4d3af668ccb1f",
       "version_major": 2,
       "version_minor": 0
      },
      "text/plain": [
       "Canvas(toolbar=Toolbar(toolitems=[('Home', 'Reset original view', 'home', 'home'), ('Back', 'Back to previous …"
      ]
     },
     "metadata": {},
     "output_type": "display_data"
    },
    {
     "name": "stderr",
     "output_type": "stream",
     "text": [
      "2020-09-14 23:01:24,493 end program.\n"
     ]
    }
   ],
   "source": [
    "import logging\n",
    "\n",
    "import matplotlib.pyplot as plt\n",
    "import pandas as pd\n",
    "from pandas import DataFrame\n",
    "\n",
    "FORMAT = '%(asctime)-15s %(message)s'\n",
    "logging.basicConfig(format=FORMAT)\n",
    "logger = logging.getLogger()\n",
    "logger.setLevel('INFO')\n",
    "\n",
    "\n",
    "def read_data() -> DataFrame:\n",
    "    logger.info('reading csv...')\n",
    "    df = pd.read_csv(\"^HSI.csv\")\n",
    "    # logger.info(df)\n",
    "    return df.set_index('Date')\n",
    "\n",
    "\n",
    "def clean_data(df: DataFrame) -> DataFrame:\n",
    "    # remove na columns\n",
    "    return df[df['High'].notnull()]\n",
    "\n",
    "\n",
    "def should_buy(df):\n",
    "    return (df['High'] > df['prev_high']) & (df['Low'] > df['prev_low'])\n",
    "\n",
    "\n",
    "def should_sell(df):\n",
    "    return (df['High'] < df['prev_high']) & (df['Low'] < df['prev_low'])\n",
    "\n",
    "\n",
    "def signal(row):\n",
    "    if row['buy']:\n",
    "        return 1\n",
    "    elif row['sell']:\n",
    "        return -1\n",
    "    else:\n",
    "        return 0\n",
    "\n",
    "\n",
    "def find_signal(df: DataFrame) -> DataFrame:\n",
    "    df = df.assign(prev_high=df['High'].shift())\n",
    "    df = df.assign(prev_low=df['Low'].shift())\n",
    "    df['buy'] = (df['High'] > df['prev_high']) & (df['Low'] > df['prev_low'])\n",
    "    df['sell'] = (df['High'] < df['prev_high']) & (df['Low'] < df['prev_low'])\n",
    "    df['signal'] = df.apply(signal, axis=1)\n",
    "    return df\n",
    "\n",
    "\n",
    "def gen_pnl(df: DataFrame) -> DataFrame:\n",
    "    df = df.assign(next_open=df['Open'].shift(-1))\n",
    "    df['diff'] = df['next_open'] - df['Close']\n",
    "    df['pnl'] = df['diff'] * df['signal']\n",
    "    df['cum_pnl'] = df['pnl'].cumsum()\n",
    "    return df\n",
    "\n",
    "\n",
    "if __name__ == '__main__':\n",
    "    %matplotlib widget\n",
    "    logger.info('start program...')\n",
    "    df = read_data()\n",
    "    clean = clean_data(df)\n",
    "    signal = find_signal(clean)\n",
    "    pnl = gen_pnl(signal)\n",
    "\n",
    "    # PLOT the chart\n",
    "\n",
    "    # pnl.plot()\n",
    "    pnl['Close'].plot()\n",
    "    pnl['cum_pnl'].plot(secondary_y=True, style='g')\n",
    "\n",
    "    plt.show()\n",
    "\n",
    "    logger.info('end program.')\n"
   ]
  }
 ],
 "metadata": {
  "kernelspec": {
   "display_name": "Python 3",
   "language": "python",
   "name": "python3"
  },
  "language_info": {
   "codemirror_mode": {
    "name": "ipython",
    "version": 3
   },
   "file_extension": ".py",
   "mimetype": "text/x-python",
   "name": "python",
   "nbconvert_exporter": "python",
   "pygments_lexer": "ipython3",
   "version": "3.8.5"
  }
 },
 "nbformat": 4,
 "nbformat_minor": 4
}
